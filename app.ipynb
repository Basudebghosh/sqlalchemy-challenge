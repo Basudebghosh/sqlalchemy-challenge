{
 "cells": [
  {
   "cell_type": "code",
   "execution_count": 234,
   "id": "d5864f77",
   "metadata": {},
   "outputs": [],
   "source": [
    "%matplotlib inline\n",
    "from matplotlib import style\n",
    "style.use('fivethirtyeight')\n",
    "import matplotlib.pyplot as plt\n",
    "from sqlalchemy.sql import exists  \n",
    "import re\n"
   ]
  },
  {
   "cell_type": "code",
   "execution_count": 235,
   "id": "d4fef82c",
   "metadata": {},
   "outputs": [],
   "source": [
    "import numpy as np\n",
    "import pandas as pd\n",
    "import datetime as dt"
   ]
  },
  {
   "cell_type": "code",
   "execution_count": 218,
   "id": "1b86ce0c",
   "metadata": {},
   "outputs": [],
   "source": [
    "# Python SQL toolkit and Object Relational Mapper\n",
    "import sqlalchemy\n",
    "from sqlalchemy.ext.automap import automap_base\n",
    "from sqlalchemy.orm import Session\n",
    "from sqlalchemy import create_engine, func\n",
    "from flask import Flask, jsonify\n",
    "from flask  import jsonify"
   ]
  },
  {
   "cell_type": "code",
   "execution_count": 236,
   "id": "737b27fb",
   "metadata": {},
   "outputs": [],
   "source": [
    "# create engine to hawaii.sqlite\n",
    "engine = create_engine(\"sqlite:///Starter_code/Resources/hawaii.sqlite\")\n"
   ]
  },
  {
   "cell_type": "code",
   "execution_count": 237,
   "id": "ad949668",
   "metadata": {},
   "outputs": [],
   "source": [
    "# reflect an existing database into a new model\n",
    "Base = automap_base()\n",
    "\n",
    "# reflect the tables\n",
    "Base.prepare(engine, reflect=True)"
   ]
  },
  {
   "cell_type": "code",
   "execution_count": 238,
   "id": "96f09ee6",
   "metadata": {},
   "outputs": [
    {
     "data": {
      "text/plain": [
       "['measurement', 'station']"
      ]
     },
     "execution_count": 238,
     "metadata": {},
     "output_type": "execute_result"
    }
   ],
   "source": [
    "# View all of the classes that automap found\n",
    "Base.classes.keys()\n"
   ]
  },
  {
   "cell_type": "code",
   "execution_count": 239,
   "id": "dcfc5e2f",
   "metadata": {},
   "outputs": [],
   "source": [
    "# Save references to each table\n",
    "Station=Base.classes.station\n",
    "Measurement=Base.classes.measurement\n"
   ]
  },
  {
   "cell_type": "code",
   "execution_count": 240,
   "id": "f683044d",
   "metadata": {},
   "outputs": [],
   "source": [
    "session = Session(engine)\n"
   ]
  },
  {
   "cell_type": "code",
   "execution_count": 241,
   "id": "73dea679",
   "metadata": {},
   "outputs": [
    {
     "data": {
      "text/plain": [
       "('2017-08-23',)"
      ]
     },
     "execution_count": 241,
     "metadata": {},
     "output_type": "execute_result"
    }
   ],
   "source": [
    "\n",
    "# Find the most recent date in the data set.\n",
    "latest_date=(session.query(Measurement.date)\n",
    "                    .order_by(Measurement.date.desc())\n",
    "                    .first())\n",
    "latest_date"
   ]
  },
  {
   "cell_type": "code",
   "execution_count": 242,
   "id": "e5a3811d",
   "metadata": {},
   "outputs": [],
   "source": [
    "#################################################\n",
    "# Flask Setup\n",
    "app = Flask(__name__)\n",
    "\n",
    "#################################################"
   ]
  },
  {
   "cell_type": "code",
   "execution_count": 243,
   "id": "02c508ea",
   "metadata": {},
   "outputs": [],
   "source": [
    "@app.route(\"/\")\n",
    "def welcome():\n",
    " \"\"\"List all available api routes.\"\"\"\n",
    " return (\n",
    " f\"Available Routes:<br/>\"\n",
    " f\"/api/v1.0/precipitation<br/>\"\n",
    " f\"/api/v1.0/stations<br/>\"\n",
    " f\"/api/v1.0/tobs<br/>\"\n",
    " f\"/api/v1.0/start (enter as YYYY-MM-DD)<br/>\"\n",
    " f\"/api/v1.0/start/end (enter as YYYY-MM-DD/YYYY-MM-DD)\"\n",
    " )\n"
   ]
  },
  {
   "cell_type": "code",
   "execution_count": 244,
   "id": "89578774",
   "metadata": {},
   "outputs": [],
   "source": [
    "@app.route(\"/api/v1.0/precipitation\") #Convert query results to a dictionary using `date` as the key and `tobs` as the value\n",
    "def precipitation():\n",
    "    # Create session (link) from Python to the DB\n",
    "    session = Session(engine)\n",
    "\n",
    "    # Query Measurement\n",
    "    results = (session.query(Measurement.date, Measurement.tobs)\n",
    "                      .order_by(Measurement.date))\n",
    "    \n",
    "    # Create a dictionary\n",
    "    precipitation_date_tobs = []\n",
    "    for each_row in results:\n",
    "        dt_dict = {}\n",
    "        dt_dict[\"date\"] = each_row.date\n",
    "        dt_dict[\"tobs\"] = each_row.tobs\n",
    "        precipitation_date_tobs.append(dt_dict)\n",
    "\n",
    "    return jsonify(precipitation_date_tobs)"
   ]
  },
  {
   "cell_type": "code",
   "execution_count": 245,
   "id": "c0ebaa69",
   "metadata": {},
   "outputs": [],
   "source": [
    "@app.route(\"/api/v1.0/stations\") #Return a JSON list of stations from the dataset\n",
    "def stations():\n",
    "    # Create session (link) from Python to the DB\n",
    "    session = Session(engine)\n",
    "\n",
    "    # Query Stations\n",
    "    results = session.query(Station.name).all()\n",
    "\n",
    "    # Convert list of tuples into normal list\n",
    "    station_details = list(np.ravel(results))\n",
    "\n",
    "    return jsonify(station_details)"
   ]
  },
  {
   "cell_type": "code",
   "execution_count": 246,
   "id": "919c90de",
   "metadata": {},
   "outputs": [],
   "source": [
    "@app.route(\"/api/v1.0/tobs\") # Query the dates and temperature observations of the most active station for the last year of data\n",
    "def tobs():\n",
    "    # Create our session (link) from Python to the DB\n",
    "    session = Session(engine)\n",
    "\n",
    "    # Query Measurements for latest date and calculate query_start_date\n",
    "    latest_date = (session.query(Measurement.date)\n",
    "                          .order_by(Measurement.date\n",
    "                          .desc())\n",
    "                          .first())\n",
    "    \n",
    "    latest_date_str = str(latest_date)\n",
    "    latest_date_str = re.sub(\"'|,\", \"\",latest_date_str)\n",
    "    latest_date_obj = dt.datetime.strptime(latest_date_str, '(%Y-%m-%d)')\n",
    "    query_start_date = dt.date(latest_date_obj.year, latest_date_obj.month, latest_date_obj.day) - dt.timedelta(days=366)\n",
    "     \n",
    "    # Query station names and their observation counts sorted descending and select most active station\n",
    "    q_station_list = (session.query(Measurement.station, func.count(Measurement.station))\n",
    "                             .group_by(Measurement.station)\n",
    "                             .order_by(func.count(Measurement.station).desc())\n",
    "                             .all())\n",
    "    \n",
    "    station_hno = q_station_list[0][0]\n",
    "    print(station_hno)\n",
    "     # Return a list of tobs for the year before the final date\n",
    "    results = (session.query(Measurement.station, Measurement.date, Measurement.tobs)\n",
    "                      .filter(Measurement.date >= query_start_date)\n",
    "                      .filter(Measurement.station == station_hno)\n",
    "                      .all())\n",
    "\n",
    "    # Create JSON results\n",
    "    tobs_list = []\n",
    "    for result in results:\n",
    "        line = {}\n",
    "        line[\"Date\"] = result[1]\n",
    "        line[\"Station\"] = result[0]\n",
    "        line[\"Temperature\"] = int(result[2])\n",
    "        tobs_list.append(line)\n",
    "\n",
    "    return jsonify(tobs_list)"
   ]
  },
  {
   "cell_type": "code",
   "execution_count": 247,
   "id": "fb081e0a",
   "metadata": {},
   "outputs": [],
   "source": [
    "@app.route(\"/api/v1.0/<start>/<end>\") # Calculate the `TMIN`, `TAVG`, and `TMAX` for dates between the start and end date inclusive\n",
    "def start_end(start, end):\n",
    "\n",
    "    # Create session (link) from Python to the DB\n",
    "    session = Session(engine)\n"
   ]
  },
  {
   "cell_type": "code",
   "execution_count": 248,
   "id": "0be1a219",
   "metadata": {},
   "outputs": [
    {
     "name": "stdout",
     "output_type": "stream",
     "text": [
      "(2017-08-23)\n"
     ]
    }
   ],
   "source": [
    " # Date Range (only for help to user in case date gets entered wrong)\n",
    "date_range_max = session.query(Measurement.date).order_by(Measurement.date.desc()).first()\n",
    "date_range_max_str = str(date_range_max)\n",
    "date_range_max_str = re.sub(\"'|,\", \"\",date_range_max_str)\n",
    "print (date_range_max_str)\n"
   ]
  },
  {
   "cell_type": "code",
   "execution_count": 249,
   "id": "f9de6a4b",
   "metadata": {},
   "outputs": [
    {
     "name": "stdout",
     "output_type": "stream",
     "text": [
      "(2010-01-01)\n"
     ]
    }
   ],
   "source": [
    "date_range_min = session.query(Measurement.date).first()\n",
    "date_range_min_str = str(date_range_min)\n",
    "date_range_min_str = re.sub(\"'|,\", \"\",date_range_min_str)\n",
    "print (date_range_min_str)\n"
   ]
  },
  {
   "cell_type": "code",
   "execution_count": null,
   "id": "2964951b",
   "metadata": {},
   "outputs": [],
   "source": [
    "# Check for valid entry of start date\n",
    "valid_entry = session.query(cb().where(Measurement.date == start)).scalar()\n",
    " \n",
    "if valid_entry:\n",
    "\n",
    "    \tresults = (session.query(func.min(Measurement.tobs)\n",
    "    \t\t\t\t ,func.avg(Measurement.tobs)\n",
    "    \t\t\t\t ,func.max(Measurement.tobs))\n",
    "    \t\t\t\t \t  .filter(Measurement.date >= start).all())\n",
    "\n",
    "tmin =results[0][0]\n",
    "tavg ='{0:.4}'.format(results[0][1])\n",
    "tmax =results[0][2]\n",
    "    \n",
    "result_printout =( ['Entered Start Date: ' + start,\n",
    "    \t\t\t\t\t\t'The lowest Temperature was: '  + str(tmin) + ' F',\n",
    "    \t\t\t\t\t\t'The average Temperature was: ' + str(tavg) + ' F',\n",
    "    \t\t\t\t\t\t'The highest Temperature was: ' + str(tmax) + ' F'])\n",
    "return jsonify(result_printout)\n",
    "\n",
    "return jsonify({\"error\": f\"Input Date {start} not valid. Date Range is {date_range_min_str} to {date_range_max_str}\"}), 404"
   ]
  },
  {
   "cell_type": "code",
   "execution_count": null,
   "id": "508fa496",
   "metadata": {},
   "outputs": [],
   "source": [
    "@app.route(\"/api/v1.0/<start>/<end>\") # Calculate the `TMIN`, `TAVG`, and `TMAX` for dates between the start and end date inclusive\n",
    "def start_end(start, end):\n",
    "\n",
    "    # Create session (link) from Python to the DB\n",
    "    session = Session(engine)"
   ]
  },
  {
   "cell_type": "code",
   "execution_count": null,
   "id": "2d3285cd",
   "metadata": {},
   "outputs": [],
   "source": [
    "# Date Range (only for help to user in case date gets entered wrong)\n",
    "date_range_max = session.query(Measurement.date).order_by(Measurement.date.desc()).first()\n",
    "date_range_max_str = str(date_range_max)\n",
    "date_range_max_str = re.sub(\"'|,\", \"\",date_range_max_str)\n",
    "print (date_range_max_str)"
   ]
  },
  {
   "cell_type": "code",
   "execution_count": null,
   "id": "46cd5ff3",
   "metadata": {},
   "outputs": [],
   "source": [
    "date_range_min = session.query(Measurement.date).first()\n",
    "date_range_min_str = str(date_range_min)\n",
    "date_range_min_str = re.sub(\"'|,\", \"\",date_range_min_str)\n",
    "print (date_range_min_str)"
   ]
  },
  {
   "cell_type": "code",
   "execution_count": null,
   "id": "c424c27f",
   "metadata": {},
   "outputs": [],
   "source": [
    "# Check for valid entry of start date\n",
    "valid_entry_start = session.query(exists().where(Measurement.date == start)).scalar()"
   ]
  },
  {
   "cell_type": "code",
   "execution_count": null,
   "id": "fd41a05d",
   "metadata": {},
   "outputs": [],
   "source": [
    "# Check for valid entry of end date\n",
    "valid_entry_end = session.query(exists().where(Measurement.date == end)).scalar()\n",
    "\n",
    "if valid_entry_start and valid_entry_end:\n",
    "\n",
    "    \tresults = (session.query(func.min(Measurement.tobs)\n",
    "    \t\t\t\t ,func.avg(Measurement.tobs)\n",
    "    \t\t\t\t ,func.max(Measurement.tobs))\n",
    "    \t\t\t\t\t  .filter(Measurement.date >= start)\n",
    "    \t\t\t\t  \t  .filter(Measurement.date <= end).all())\n",
    "\n",
    "tmin =results[0][0]\n",
    "tavg ='{0:.4}'.format(results[0][1])\n",
    "tmax =results[0][2]\n",
    "    \n",
    "result_printout =( ['Entered Start Date: ' + start,\n",
    "    \t\t\t\t\t\t'Entered End Date: ' + end,\n",
    "    \t\t\t\t\t\t'The lowest Temperature was: '  + str(tmin) + ' F',\n",
    "    \t\t\t\t\t\t'The average Temperature was: ' + str(tavg) + ' F',\n",
    "    \t\t\t\t\t\t'The highest Temperature was: ' + str(tmax) + ' F'])\n",
    "return jsonify(result_printout)\n",
    "\n",
    "if not valid_entry_start and not valid_entry_end:\n",
    "return jsonify({\"error\": f\"Input Start {start} and End Date {end} not valid. Date Range is {date_range_min_str} to {date_range_max_str}\"}), 404\n",
    "\n",
    "if not valid_entry_start:\n",
    "return jsonify({\"error\": f\"Input Start Date {start} not valid. Date Range is {date_range_min_str} to {date_range_max_str}\"}), 404\n",
    "\n",
    "if not valid_entry_end:\n",
    "return jsonify({\"error\": f\"Input End Date {end} not valid. Date Range is {date_range_min_str} to {date_range_max_str}\"}), 404\n"
   ]
  },
  {
   "cell_type": "code",
   "execution_count": null,
   "id": "4b3c72e6",
   "metadata": {},
   "outputs": [],
   "source": [
    "if __name__ == '__main__':\n",
    "    app.run(debug=True)"
   ]
  }
 ],
 "metadata": {
  "kernelspec": {
   "display_name": "Python 3 (ipykernel)",
   "language": "python",
   "name": "python3"
  },
  "language_info": {
   "codemirror_mode": {
    "name": "ipython",
    "version": 3
   },
   "file_extension": ".py",
   "mimetype": "text/x-python",
   "name": "python",
   "nbconvert_exporter": "python",
   "pygments_lexer": "ipython3",
   "version": "3.10.9"
  }
 },
 "nbformat": 4,
 "nbformat_minor": 5
}
